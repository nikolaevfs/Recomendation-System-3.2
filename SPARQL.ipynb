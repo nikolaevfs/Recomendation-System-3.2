{
 "cells": [
  {
   "cell_type": "code",
   "execution_count": 1,
   "metadata": {},
   "outputs": [],
   "source": [
    "from SPARQLWrapper import SPARQLWrapper, JSON\n",
    "import pandas as pd\n",
    "import requests\n",
    "import math\n",
    "import numpy as np\n",
    "import csv"
   ]
  },
  {
   "cell_type": "code",
   "execution_count": 2,
   "metadata": {},
   "outputs": [],
   "source": [
    "# считает среднюю оценку пользователя оценённых фильмов\n",
    "def avgRating(row):\n",
    "    rated, ratings = 0, 0\n",
    "    for film in range(numberOfFilms):\n",
    "        if row.iat[0, film] != -1:\n",
    "            rated += 1\n",
    "            ratings += row.iat[0, film]\n",
    "    return round(ratings / rated, 3)"
   ]
  },
  {
   "cell_type": "code",
   "execution_count": 3,
   "metadata": {},
   "outputs": [],
   "source": [
    "# создаёт list из индексов непросмотренных фильмов\n",
    "def findNotRated(variant):\n",
    "    notRated = []\n",
    "    for j in range(numberOfFilms):\n",
    "        if data.iat[variant - 1, j] == -1:\n",
    "            notRated.append(j)\n",
    "    return notRated"
   ]
  },
  {
   "cell_type": "code",
   "execution_count": 4,
   "metadata": {},
   "outputs": [],
   "source": [
    "# считает значение sim двух пользователей\n",
    "def calculateSim(user1, user2):\n",
    "    uvSum, u2Sum, v2Sum = 0, 0, 0\n",
    "    for i in range(numberOfFilms):\n",
    "        if (user1.iat[0, i] != -1) and (user2.iat[0, i] != -1):\n",
    "            uvSum += user1.iat[0, i] * user2.iat[0, i]\n",
    "            u2Sum += user1.iat[0, i] ** 2\n",
    "            v2Sum += user2.iat[0, i] ** 2\n",
    "\n",
    "    return round(uvSum / (round(math.sqrt(u2Sum) * math.sqrt(v2Sum), 3)), 3)"
   ]
  },
  {
   "cell_type": "code",
   "execution_count": 5,
   "metadata": {},
   "outputs": [],
   "source": [
    "# создаёт list из sim\n",
    "def findSims(data, myUser):\n",
    "    sims = []\n",
    "    notRated = findNotRated(variant)\n",
    "    for i in range(1, numberOfUsers + 1):\n",
    "        if i == variant:\n",
    "            sims.append(0)\n",
    "        else:\n",
    "            sims.append(calculateSim(data.loc[data.index == myUser], data.loc[data.index == 'User ' + str(i)]))\n",
    "    ###\n",
    "    return sims"
   ]
  },
  {
   "cell_type": "code",
   "execution_count": 6,
   "metadata": {},
   "outputs": [],
   "source": [
    "# вычисляет оценку фильма на основе оценок схожих пользователей\n",
    "def makeRate(filmIndex, k, maxSims, sims):\n",
    "    ru = avgRating(data.loc[data.index == myUser])\n",
    "    sumUp, sumDown = 0, 0\n",
    "\n",
    "    for i in range(k):\n",
    "        ##\n",
    "        if data.iat[maxSims[i], filmIndex] != -1:\n",
    "            sumUp += sims[maxSims[i]] * (\n",
    "                    data.iat[maxSims[i], filmIndex] - avgRating(data.loc[data.index == 'User ' + str(maxSims[i] + 1)]))\n",
    "            sumDown += abs(sims[maxSims[i]])\n",
    "\n",
    "    return float(format(round(ru + round(sumUp / sumDown, 3), 3), '.3f'))"
   ]
  },
  {
   "cell_type": "code",
   "execution_count": 7,
   "metadata": {},
   "outputs": [],
   "source": [
    "# коэффициент просмотра фильма на выходных\n",
    "def onWeekend(maxSims, film):\n",
    "    onWeekend = 0\n",
    "    for user in maxSims:\n",
    "        if context_day.iat[user, film] == \" Sat\" or context_day.iat[user, film] == \" Sun\":\n",
    "            onWeekend += 1\n",
    "    return round(onWeekend / 4 * 100 / 3, 3)"
   ]
  },
  {
   "cell_type": "code",
   "execution_count": 8,
   "metadata": {},
   "outputs": [],
   "source": [
    "# коэффициент просмотра фильма на дома\n",
    "def atHome(maxSims, film):\n",
    "    atHome = 0\n",
    "    for user in maxSims:\n",
    "        if context_place.iat[user, film] == \" h\":\n",
    "            atHome += 1\n",
    "    return round(atHome / 4 * 100 / 3, 3)"
   ]
  },
  {
   "cell_type": "code",
   "execution_count": 9,
   "metadata": {},
   "outputs": [],
   "source": [
    "def recommendation(data):\n",
    "    k = 4\n",
    "    notRated = findNotRated(variant)\n",
    "    sims = findSims(data, myUser)\n",
    "    maxSims = np.array(sims).argsort()[-k:]\n",
    "\n",
    "    rated = {}\n",
    "    for film in notRated:\n",
    "        rated[film] = round(makeRate(film, k, maxSims, sims) / 5 * 100 / 3, 3) + onWeekend(maxSims,\n",
    "                                                                                                     film) + atHome(\n",
    "            maxSims, film)\n",
    "\n",
    "    for key in rated.keys():\n",
    "        if rated.get(key) == max(rated.values()):\n",
    "            d = key + 1\n",
    "            return d"
   ]
  },
  {
   "cell_type": "code",
   "execution_count": 10,
   "metadata": {},
   "outputs": [],
   "source": [
    "data = pd.read_csv('data.csv', index_col=0).copy()\n",
    "context_day = pd.read_csv('context_day.csv', index_col=0)\n",
    "context_place = pd.read_csv('context_place.csv', index_col=0)\n",
    "# был 24-й вариант\n",
    "variant = 24\n",
    "myUser = 'User ' + str(variant)\n",
    "\n",
    "numberOfUsers = data.shape[0]\n",
    "numberOfFilms = data.shape[1]\n",
    "\n",
    "# В этом задании выбор делается из непросмотренных фильмов моего варианта на основе данных\n",
    "# наиболее близких пользователей по sim. Оценка, место и время просмотра - учитываются равнозначно для выбора фильма\n",
    "res2 = recommendation(data)"
   ]
  },
  {
   "cell_type": "code",
   "execution_count": 11,
   "metadata": {},
   "outputs": [
    {
     "name": "stdout",
     "output_type": "stream",
     "text": [
      "Film: Forrest Gump\n"
     ]
    }
   ],
   "source": [
    "films = pd.read_csv('movie_names.csv', index_col=0, names=['Movie', 'Name'])\n",
    "movie_name = films.iat[res2-1,0].strip()\n",
    "print(\"Film: \" + movie_name)"
   ]
  },
  {
   "cell_type": "code",
   "execution_count": 12,
   "metadata": {},
   "outputs": [],
   "source": [
    "API_ENDPOINT = \"https://www.wikidata.org/w/api.php\""
   ]
  },
  {
   "cell_type": "code",
   "execution_count": 13,
   "metadata": {},
   "outputs": [],
   "source": [
    "params = {\n",
    "    'action' : 'wbsearchentities',\n",
    "    'format' : 'json',\n",
    "    'language' : 'en',\n",
    "    'search': movie_name\n",
    "}"
   ]
  },
  {
   "cell_type": "code",
   "execution_count": 14,
   "metadata": {},
   "outputs": [
    {
     "name": "stdout",
     "output_type": "stream",
     "text": [
      "Q134773\n"
     ]
    }
   ],
   "source": [
    "res = requests.get(API_ENDPOINT, params = params)\n",
    "myfilm = res.json()['search'][0]['id']\n",
    "print(myfilm)"
   ]
  },
  {
   "cell_type": "code",
   "execution_count": 15,
   "metadata": {},
   "outputs": [],
   "source": [
    "sparql = SPARQLWrapper(\"https://query.wikidata.org/sparql\")\n",
    "\n",
    "sparql_query = \"\"\"\n",
    "\n",
    "SELECT ?actorLabel \n",
    "WHERE {\n",
    "  ?film wdt:P31 wd:Q11424.\n",
    "  ?film wdt:P161 ?actor.\n",
    "  FILTER(?film = wd:Q134773)\n",
    "  \n",
    "  # из всех актёров фильма исключаем тех, кто умер\n",
    "  MINUS {\n",
    "    ?film wdt:P31 wd:Q11424.\n",
    "    ?film wdt:P161 ?actor.    \n",
    "    ?actor p:P570/psv:P570 ?death_date_point.\n",
    "    FILTER(?film = wd:\"\"\"+ myfilm + \"\"\")\n",
    "  }\n",
    "  SERVICE wikibase:label { bd:serviceParam wikibase:language \"[AUTO_LANGUAGE],en\".}\n",
    " }\n",
    " \n",
    "\"\"\"\n",
    "\n",
    "sparql.setQuery(sparql_query)\n",
    "\n",
    "sparql.setReturnFormat(JSON)\n",
    "results = sparql.query().convert()"
   ]
  },
  {
   "cell_type": "code",
   "execution_count": 16,
   "metadata": {},
   "outputs": [
    {
     "name": "stderr",
     "output_type": "stream",
     "text": [
      "<ipython-input-16-9ceb94ae94e5>:1: FutureWarning: pandas.io.json.json_normalize is deprecated, use pandas.json_normalize instead\n",
      "  results_df = pd.io.json.json_normalize(results['results']['bindings'])\n"
     ]
    },
    {
     "data": {
      "text/html": [
       "<div>\n",
       "<style scoped>\n",
       "    .dataframe tbody tr th:only-of-type {\n",
       "        vertical-align: middle;\n",
       "    }\n",
       "\n",
       "    .dataframe tbody tr th {\n",
       "        vertical-align: top;\n",
       "    }\n",
       "\n",
       "    .dataframe thead th {\n",
       "        text-align: right;\n",
       "    }\n",
       "</style>\n",
       "<table border=\"1\" class=\"dataframe\">\n",
       "  <thead>\n",
       "    <tr style=\"text-align: right;\">\n",
       "      <th></th>\n",
       "      <th>actorLabel.value</th>\n",
       "    </tr>\n",
       "  </thead>\n",
       "  <tbody>\n",
       "    <tr>\n",
       "      <th>0</th>\n",
       "      <td>Lonnie Hamilton</td>\n",
       "    </tr>\n",
       "    <tr>\n",
       "      <th>1</th>\n",
       "      <td>Teresa Denton</td>\n",
       "    </tr>\n",
       "    <tr>\n",
       "      <th>2</th>\n",
       "      <td>Tom Hanks</td>\n",
       "    </tr>\n",
       "    <tr>\n",
       "      <th>3</th>\n",
       "      <td>Hanna R. Hall</td>\n",
       "    </tr>\n",
       "    <tr>\n",
       "      <th>4</th>\n",
       "      <td>Kurt Russell</td>\n",
       "    </tr>\n",
       "  </tbody>\n",
       "</table>\n",
       "</div>"
      ],
      "text/plain": [
       "  actorLabel.value\n",
       "0  Lonnie Hamilton\n",
       "1    Teresa Denton\n",
       "2        Tom Hanks\n",
       "3    Hanna R. Hall\n",
       "4     Kurt Russell"
      ]
     },
     "execution_count": 16,
     "metadata": {},
     "output_type": "execute_result"
    }
   ],
   "source": [
    "results_df = pd.io.json.json_normalize(results['results']['bindings'])\n",
    "results_df[['actorLabel.value']].head()"
   ]
  }
 ],
 "metadata": {
  "kernelspec": {
   "display_name": "Python 3",
   "language": "python",
   "name": "python3"
  },
  "language_info": {
   "codemirror_mode": {
    "name": "ipython",
    "version": 3
   },
   "file_extension": ".py",
   "mimetype": "text/x-python",
   "name": "python",
   "nbconvert_exporter": "python",
   "pygments_lexer": "ipython3",
   "version": "3.8.3"
  }
 },
 "nbformat": 4,
 "nbformat_minor": 4
}
